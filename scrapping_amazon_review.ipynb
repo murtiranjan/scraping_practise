{
 "cells": [
  {
   "cell_type": "code",
   "execution_count": 1,
   "id": "afac8a62",
   "metadata": {},
   "outputs": [],
   "source": [
    "import mysql.connector\n",
    "import numpy as np\n",
    "from datetime import date\n",
    "from selenium import webdriver\n",
    "from selenium.webdriver.chrome.options import Options\n",
    "import pandas as pd\n",
    "from time import sleep\n",
    "import sqlalchemy\n",
    "import pandas as pd\n",
    "import pymysql\n",
    "import re\n",
    "import time\n",
    "import datetime\n",
    "import multiprocessing\n",
    "from datetime import datetime\n",
    "from selenium.webdriver.common.keys import Keys\n",
    "from selenium.webdriver.common.desired_capabilities import DesiredCapabilities\n",
    "from fake_useragent import UserAgent\n",
    "import threading\n",
    "from selenium.webdriver.firefox.firefox_profile import FirefoxProfile\n",
    "from selenium.webdriver.firefox.options import Options\n",
    "import os\n"
   ]
  },
  {
   "cell_type": "code",
   "execution_count": 3,
   "id": "890fee9f",
   "metadata": {},
   "outputs": [],
   "source": [
    "from selenium import webdriver\n"
   ]
  },
  {
   "cell_type": "code",
   "execution_count": 6,
   "id": "f6082bfe",
   "metadata": {},
   "outputs": [],
   "source": [
    "driver = webdriver.Chrome(r'C:\\Users\\Ritesh\\Downloads\\chromedriver.exe')"
   ]
  },
  {
   "cell_type": "code",
   "execution_count": 7,
   "id": "171d1804",
   "metadata": {},
   "outputs": [],
   "source": [
    "url = 'https://www.amazon.in/Avocado-Alovera-Foaming-Attached-Cleansing/product-reviews/B08DYB2CG9/ref=sr_1_8?dchild=1&keywords=zobha&qid=1631941296&qsid=259-8968187-7786231&sr=8-8&sres=B09FGHYZHK%2CB08F2KDHT4%2CB09B7PV6G4%2CB08DYB2CG9%2CB08DY8TRWH%2CB08PFTPMPH%2CB08F2KX8X2%2CB08DY6H929%2CB08TTMGQCP%2CB08FCKFMDN%2CB08WLXSSTQ%2CB08P3KYF79%2CB08DY736ZR%2CB08PD1SXDP%2CB08XQQ449K%2CB08PCYQ9NB%2CB08XQR6CDZ%2CB08DY8R7DC%2CB08XQQD9BL%2CB08T7N985H'"
   ]
  },
  {
   "cell_type": "code",
   "execution_count": 8,
   "id": "895b8671",
   "metadata": {},
   "outputs": [],
   "source": [
    "driver.get(url)"
   ]
  },
  {
   "cell_type": "code",
   "execution_count": 9,
   "id": "1f08c84d",
   "metadata": {},
   "outputs": [],
   "source": [
    "number_rating_review = len(driver.find_elements_by_xpath('//*[@data-hook=\"review-star-rating\"]'))"
   ]
  },
  {
   "cell_type": "code",
   "execution_count": 10,
   "id": "4cc9d380",
   "metadata": {},
   "outputs": [
    {
     "name": "stdout",
     "output_type": "stream",
     "text": [
      "true\n"
     ]
    }
   ],
   "source": [
    "if number_rating_review>0:\n",
    "    print('true')\n",
    "else:\n",
    "    print(false)"
   ]
  },
  {
   "cell_type": "code",
   "execution_count": 16,
   "id": "eed26ed0",
   "metadata": {},
   "outputs": [],
   "source": [
    "r = []"
   ]
  },
  {
   "cell_type": "code",
   "execution_count": 32,
   "id": "e78b9574",
   "metadata": {},
   "outputs": [],
   "source": [
    "for i in range(0,6):\n",
    "    r.append(int(float(driver.find_elements_by_xpath('//*[@data-hook=\"review-star-rating\"]')[i].get_attribute('class').split('a-star-')[1].split()[0])))"
   ]
  },
  {
   "cell_type": "code",
   "execution_count": 33,
   "id": "f576769c",
   "metadata": {},
   "outputs": [
    {
     "data": {
      "text/plain": [
       "[5, 5, 1, 1, 5, 5, 5]"
      ]
     },
     "execution_count": 33,
     "metadata": {},
     "output_type": "execute_result"
    }
   ],
   "source": [
    "r"
   ]
  },
  {
   "cell_type": "code",
   "execution_count": 30,
   "id": "e65bbae5",
   "metadata": {},
   "outputs": [],
   "source": [
    "t = []\n",
    "\n",
    "for i in range(0,6):\n",
    "    t.append(driver.find_elements_by_xpath('//a[@data-hook=\"review-title\"]')[i].text)"
   ]
  },
  {
   "cell_type": "code",
   "execution_count": 28,
   "id": "df7b24e4",
   "metadata": {},
   "outputs": [
    {
     "data": {
      "text/plain": [
       "['Face wash',\n",
       " 'Worst',\n",
       " \"Please don't buy this product\",\n",
       " 'All family members can use.',\n",
       " 'Good product',\n",
       " 'Best']"
      ]
     },
     "execution_count": 28,
     "metadata": {},
     "output_type": "execute_result"
    }
   ],
   "source": [
    "t"
   ]
  },
  {
   "cell_type": "code",
   "execution_count": 38,
   "id": "43de426e",
   "metadata": {},
   "outputs": [],
   "source": [
    "date = []\n",
    "\n",
    "for i in range(0,6):\n",
    "    date.append(driver.find_elements_by_xpath('//span[@data-hook=\"review-date\"]')[i].text.split('on ')[1])"
   ]
  },
  {
   "cell_type": "code",
   "execution_count": 39,
   "id": "a74c646c",
   "metadata": {},
   "outputs": [
    {
     "data": {
      "text/plain": [
       "['5 October 2020',\n",
       " '1 March 2021',\n",
       " '19 June 2021',\n",
       " '31 July 2020',\n",
       " '6 August 2020',\n",
       " '6 August 2020']"
      ]
     },
     "execution_count": 39,
     "metadata": {},
     "output_type": "execute_result"
    }
   ],
   "source": [
    "date"
   ]
  },
  {
   "cell_type": "code",
   "execution_count": 40,
   "id": "1f4932bf",
   "metadata": {},
   "outputs": [],
   "source": [
    "review = []\n",
    "\n",
    "for i in range(0,6):\n",
    "    review.append(driver.find_elements_by_xpath('//span[@data-hook = \"review-body\"]')[i].text)\n"
   ]
  },
  {
   "cell_type": "code",
   "execution_count": 41,
   "id": "2ad11674",
   "metadata": {},
   "outputs": [
    {
     "data": {
      "text/plain": [
       "['Your face wash was really amazing it is so good it go deep and clean the skin',\n",
       " 'Worst for dry skin it makes your skin more dry',\n",
       " 'Waste of money product...',\n",
       " 'Best foaming face wash , purchased for my cousin, she is so happy, no need of clean up and facial after using this , thank u Zobha',\n",
       " 'Best facewash i have ever purchased. Value for money. After using this product you can feel cool sensation on your face and it gets rid of all the oil from your face. Highly recommended.',\n",
       " 'One of the best foaming facewash.']"
      ]
     },
     "execution_count": 41,
     "metadata": {},
     "output_type": "execute_result"
    }
   ],
   "source": [
    "review"
   ]
  },
  {
   "cell_type": "code",
   "execution_count": 46,
   "id": "eaf07dfe",
   "metadata": {},
   "outputs": [
    {
     "ename": "ValueError",
     "evalue": "invalid literal for int() with base 10: 'One'",
     "output_type": "error",
     "traceback": [
      "\u001b[1;31m---------------------------------------------------------------------------\u001b[0m",
      "\u001b[1;31mValueError\u001b[0m                                Traceback (most recent call last)",
      "\u001b[1;32m<ipython-input-46-9a18a3c96b01>\u001b[0m in \u001b[0;36m<module>\u001b[1;34m\u001b[0m\n\u001b[0;32m      2\u001b[0m \u001b[1;33m\u001b[0m\u001b[0m\n\u001b[0;32m      3\u001b[0m \u001b[1;32mfor\u001b[0m \u001b[0mi\u001b[0m \u001b[1;32min\u001b[0m \u001b[0mrange\u001b[0m\u001b[1;33m(\u001b[0m\u001b[1;36m0\u001b[0m\u001b[1;33m,\u001b[0m\u001b[1;36m1\u001b[0m\u001b[1;33m)\u001b[0m\u001b[1;33m:\u001b[0m\u001b[1;33m\u001b[0m\u001b[1;33m\u001b[0m\u001b[0m\n\u001b[1;32m----> 4\u001b[1;33m     \u001b[0mh\u001b[0m\u001b[1;33m.\u001b[0m\u001b[0mappend\u001b[0m\u001b[1;33m(\u001b[0m\u001b[0mint\u001b[0m\u001b[1;33m(\u001b[0m\u001b[0mdriver\u001b[0m\u001b[1;33m.\u001b[0m\u001b[0mfind_elements_by_xpath\u001b[0m\u001b[1;33m(\u001b[0m\u001b[1;34m'//span[@data-hook=\"helpful-vote-statement\"]'\u001b[0m\u001b[1;33m)\u001b[0m\u001b[1;33m[\u001b[0m\u001b[0mi\u001b[0m\u001b[1;33m]\u001b[0m\u001b[1;33m.\u001b[0m\u001b[0mtext\u001b[0m\u001b[1;33m.\u001b[0m\u001b[0msplit\u001b[0m\u001b[1;33m(\u001b[0m\u001b[1;33m)\u001b[0m\u001b[1;33m[\u001b[0m\u001b[1;36m0\u001b[0m\u001b[1;33m]\u001b[0m\u001b[1;33m)\u001b[0m\u001b[1;33m)\u001b[0m\u001b[1;33m\u001b[0m\u001b[1;33m\u001b[0m\u001b[0m\n\u001b[0m",
      "\u001b[1;31mValueError\u001b[0m: invalid literal for int() with base 10: 'One'"
     ]
    }
   ],
   "source": [
    "h = []\n",
    "\n",
    "for i in range(0,1):\n",
    "    h.append(int(driver.find_elements_by_xpath('//span[@data-hook=\"helpful-vote-statement\"]')[i].text.split()[0]))"
   ]
  },
  {
   "cell_type": "code",
   "execution_count": 45,
   "id": "664e86c4",
   "metadata": {},
   "outputs": [
    {
     "data": {
      "text/plain": [
       "['One']"
      ]
     },
     "execution_count": 45,
     "metadata": {},
     "output_type": "execute_result"
    }
   ],
   "source": [
    "h"
   ]
  },
  {
   "cell_type": "code",
   "execution_count": null,
   "id": "eb156f4a",
   "metadata": {},
   "outputs": [],
   "source": []
  }
 ],
 "metadata": {
  "kernelspec": {
   "display_name": "Python 3",
   "language": "python",
   "name": "python3"
  },
  "language_info": {
   "codemirror_mode": {
    "name": "ipython",
    "version": 3
   },
   "file_extension": ".py",
   "mimetype": "text/x-python",
   "name": "python",
   "nbconvert_exporter": "python",
   "pygments_lexer": "ipython3",
   "version": "3.8.8"
  }
 },
 "nbformat": 4,
 "nbformat_minor": 5
}
