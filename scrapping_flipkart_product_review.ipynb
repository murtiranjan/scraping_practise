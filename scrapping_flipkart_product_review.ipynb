{
 "cells": [
  {
   "cell_type": "code",
   "execution_count": 1,
   "id": "8b3e3a60",
   "metadata": {},
   "outputs": [],
   "source": [
    "import mysql.connector\n",
    "import numpy as np\n",
    "from datetime import date\n",
    "from selenium import webdriver\n",
    "from selenium.webdriver.chrome.options import Options\n",
    "import pandas as pd\n",
    "from time import sleep\n",
    "import sqlalchemy\n",
    "import pandas as pd\n",
    "import pymysql\n",
    "import re\n",
    "import time\n",
    "import datetime\n",
    "import multiprocessing\n",
    "from datetime import datetime\n",
    "from selenium.webdriver.common.keys import Keys\n",
    "from selenium.webdriver.common.desired_capabilities import DesiredCapabilities\n",
    "from fake_useragent import UserAgent\n",
    "import threading\n",
    "from selenium.webdriver.firefox.firefox_profile import FirefoxProfile\n",
    "from selenium.webdriver.firefox.options import Options\n",
    "import os\n"
   ]
  },
  {
   "cell_type": "code",
   "execution_count": 2,
   "id": "c95ef4c1",
   "metadata": {},
   "outputs": [],
   "source": [
    "from selenium import webdriver"
   ]
  },
  {
   "cell_type": "code",
   "execution_count": 3,
   "id": "6c57f740",
   "metadata": {},
   "outputs": [],
   "source": [
    "driver = webdriver.Chrome(r'C:\\Users\\Ritesh\\Downloads\\chromedriver.exe')"
   ]
  },
  {
   "cell_type": "code",
   "execution_count": 4,
   "id": "43a1abd7",
   "metadata": {},
   "outputs": [],
   "source": [
    "url = 'https://www.flipkart.com/samsung-galaxy-note-3-neo-black-16-gb/product-reviews/itme687vvszf94ye?pid=MOBDTRBZSVFGZVXC&lid=LSTMOBDTRBZSVFGZVXCQ6NJTL&marketplace=FLIPKART'"
   ]
  },
  {
   "cell_type": "code",
   "execution_count": 5,
   "id": "91b82e03",
   "metadata": {},
   "outputs": [],
   "source": [
    "driver.get(url)"
   ]
  },
  {
   "cell_type": "markdown",
   "id": "4c4b6606",
   "metadata": {},
   "source": [
    "# product name"
   ]
  },
  {
   "cell_type": "code",
   "execution_count": 6,
   "id": "a0d00667",
   "metadata": {},
   "outputs": [],
   "source": [
    "name= driver.find_element_by_xpath('//*[@id=\"container\"]/div/div[3]/div/div[1]/div[2]/div[1]/div[1]/div[1]/div').text"
   ]
  },
  {
   "cell_type": "code",
   "execution_count": 7,
   "id": "1939c692",
   "metadata": {},
   "outputs": [
    {
     "data": {
      "text/plain": [
       "'SAMSUNG Galaxy Note 3 Neo (Black, 16 GB) Reviews'"
      ]
     },
     "execution_count": 7,
     "metadata": {},
     "output_type": "execute_result"
    }
   ],
   "source": [
    "name"
   ]
  },
  {
   "cell_type": "markdown",
   "id": "e311aa7e",
   "metadata": {},
   "source": [
    "# rating"
   ]
  },
  {
   "cell_type": "code",
   "execution_count": 8,
   "id": "ddb6bb15",
   "metadata": {},
   "outputs": [],
   "source": [
    "review = []\n",
    "for i in range(len(driver.find_elements_by_xpath('//*[@id=\"container\"]/div/div[3]/div/div[1]/div[2]/div/div/div/div/div[1]/div'))):\n",
    "    review.append(driver.find_elements_by_xpath('//*[@id=\"container\"]/div/div[3]/div/div[1]/div[2]/div/div/div/div/div[1]/div')[i].text)\n"
   ]
  },
  {
   "cell_type": "code",
   "execution_count": 9,
   "id": "4a9c857f",
   "metadata": {},
   "outputs": [
    {
     "data": {
      "text/plain": [
       "['Most Helpful\\nMost Recent\\nPositive First\\nNegative First',\n",
       " '4.2★',\n",
       " '5',\n",
       " '4',\n",
       " '5',\n",
       " '5',\n",
       " '4',\n",
       " '5',\n",
       " '2',\n",
       " '5',\n",
       " '5',\n",
       " '5']"
      ]
     },
     "execution_count": 9,
     "metadata": {},
     "output_type": "execute_result"
    }
   ],
   "source": [
    "review"
   ]
  },
  {
   "cell_type": "markdown",
   "id": "9fee2b5a",
   "metadata": {},
   "source": [
    "# to go to "
   ]
  },
  {
   "cell_type": "code",
   "execution_count": 12,
   "id": "ac40465c",
   "metadata": {},
   "outputs": [],
   "source": [
    "next_page = driver.find_element_by_xpath('//*[@id=\"container\"]/div/div[3]/div/div/div[2]/div[13]/div/div/nav/a[2]').click()"
   ]
  },
  {
   "cell_type": "code",
   "execution_count": 11,
   "id": "3a3f3942",
   "metadata": {},
   "outputs": [
    {
     "ename": "SyntaxError",
     "evalue": "invalid syntax (<ipython-input-11-4c4cefd7ff81>, line 1)",
     "output_type": "error",
     "traceback": [
      "\u001b[1;36m  File \u001b[1;32m\"<ipython-input-11-4c4cefd7ff81>\"\u001b[1;36m, line \u001b[1;32m1\u001b[0m\n\u001b[1;33m    for\u001b[0m\n\u001b[1;37m       ^\u001b[0m\n\u001b[1;31mSyntaxError\u001b[0m\u001b[1;31m:\u001b[0m invalid syntax\n"
     ]
    }
   ],
   "source": []
  }
 ],
 "metadata": {
  "kernelspec": {
   "display_name": "Python 3",
   "language": "python",
   "name": "python3"
  },
  "language_info": {
   "codemirror_mode": {
    "name": "ipython",
    "version": 3
   },
   "file_extension": ".py",
   "mimetype": "text/x-python",
   "name": "python",
   "nbconvert_exporter": "python",
   "pygments_lexer": "ipython3",
   "version": "3.8.8"
  }
 },
 "nbformat": 4,
 "nbformat_minor": 5
}
