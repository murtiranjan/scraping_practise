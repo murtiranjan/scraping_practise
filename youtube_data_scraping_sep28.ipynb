{
 "cells": [
  {
   "cell_type": "code",
   "execution_count": 1,
   "id": "50ac54e7",
   "metadata": {},
   "outputs": [],
   "source": [
    "import csv\n",
    "from time import sleep\n",
    "from selenium.webdriver.common.keys import Keys\n",
    "from selenium.webdriver.common.by import By\n",
    "from selenium.webdriver.support.ui import WebDriverWait\n",
    "from selenium.webdriver.support import expected_conditions\n",
    "from selenium.common import exceptions\n",
    "from selenium import webdriver\n",
    "import pandas as pd\n",
    "import numpy as np"
   ]
  },
  {
   "cell_type": "code",
   "execution_count": 2,
   "id": "eb31023c",
   "metadata": {},
   "outputs": [],
   "source": [
    "driver = webdriver.Chrome(r'C:\\Users\\Ritesh\\Downloads\\chromedriver.exe')"
   ]
  },
  {
   "cell_type": "code",
   "execution_count": 3,
   "id": "6a4a84be",
   "metadata": {},
   "outputs": [],
   "source": [
    "driver.get('https://www.youtube.com/feed/trending')"
   ]
  },
  {
   "cell_type": "markdown",
   "id": "0df6b0a1",
   "metadata": {},
   "source": [
    "# search input"
   ]
  },
  {
   "cell_type": "code",
   "execution_count": 6,
   "id": "01809046",
   "metadata": {},
   "outputs": [],
   "source": [
    "search_ = driver.find_element_by_xpath('//input[@id =\"search\"]')"
   ]
  },
  {
   "cell_type": "code",
   "execution_count": 7,
   "id": "b192cce5",
   "metadata": {},
   "outputs": [],
   "source": [
    "search_.click()"
   ]
  },
  {
   "cell_type": "code",
   "execution_count": 10,
   "id": "f15d7b15",
   "metadata": {},
   "outputs": [
    {
     "ename": "AttributeError",
     "evalue": "'WebElement' object has no attribute 'Keys'",
     "output_type": "error",
     "traceback": [
      "\u001b[1;31m---------------------------------------------------------------------------\u001b[0m",
      "\u001b[1;31mAttributeError\u001b[0m                            Traceback (most recent call last)",
      "\u001b[1;32m<ipython-input-10-8cab0c0fa00e>\u001b[0m in \u001b[0;36m<module>\u001b[1;34m\u001b[0m\n\u001b[0;32m      1\u001b[0m \u001b[0msearch_\u001b[0m\u001b[1;33m.\u001b[0m\u001b[0msend_keys\u001b[0m\u001b[1;33m(\u001b[0m\u001b[1;34m'hello'\u001b[0m\u001b[1;33m)\u001b[0m\u001b[1;33m\u001b[0m\u001b[1;33m\u001b[0m\u001b[0m\n\u001b[1;32m----> 2\u001b[1;33m \u001b[0msearch_\u001b[0m\u001b[1;33m.\u001b[0m\u001b[0mKeys\u001b[0m\u001b[1;33m(\u001b[0m\u001b[1;34m'enter'\u001b[0m\u001b[1;33m)\u001b[0m\u001b[1;33m\u001b[0m\u001b[1;33m\u001b[0m\u001b[0m\n\u001b[0m",
      "\u001b[1;31mAttributeError\u001b[0m: 'WebElement' object has no attribute 'Keys'"
     ]
    }
   ],
   "source": [
    "search_.send_keys('hello')\n",
    "search_.Keys('enter')"
   ]
  },
  {
   "cell_type": "code",
   "execution_count": null,
   "id": "a6d82278",
   "metadata": {},
   "outputs": [],
   "source": []
  },
  {
   "cell_type": "code",
   "execution_count": null,
   "id": "9ba1eb45",
   "metadata": {},
   "outputs": [],
   "source": []
  },
  {
   "cell_type": "code",
   "execution_count": 5,
   "id": "e69c3b80",
   "metadata": {},
   "outputs": [],
   "source": [
    "a= driver.find_elements_by_xpath('//*[@id=\"video-title\"]/yt-formatted-string')"
   ]
  },
  {
   "cell_type": "code",
   "execution_count": 6,
   "id": "cfdbb686",
   "metadata": {},
   "outputs": [
    {
     "data": {
      "text/plain": [
       "85"
      ]
     },
     "execution_count": 6,
     "metadata": {},
     "output_type": "execute_result"
    }
   ],
   "source": [
    "len(a)"
   ]
  },
  {
   "cell_type": "code",
   "execution_count": 17,
   "id": "e64b4324",
   "metadata": {},
   "outputs": [
    {
     "name": "stdout",
     "output_type": "stream",
     "text": [
      "Kam se kam apni ke liye time to nikal liya karo 🙏🙏#emotinalstory #papa #pitaji #family\n",
      "Papa 🥺❤️ | Deepesh zo | gogo2728 | Mr roshan | deepesh | gogo | roshan\n",
      "Maa ke liye ye best👍 kiya |Ajay Sharma #shorts #motivation #maa\n",
      "Honsla Rakh (Official Trailer) Diljit Dosanjh, Sonam Bajwa, Shehnaaz Gill, Shinda Grewal | 15 OCT\n",
      "Dil Galti Kar Baitha Hai | Meet Bros Ft. Jubin Nautiyal | Mouni Roy | Manoj M | Ashish P | Bhushan K\n",
      "Insaniyat shayad ab bachho me he rah gai hai 😭😭#emotinalstory #sadstory #stories #heroindori\n",
      "Papa ❤️ | Deepesh zo | Gogo2728 | Mr roshan | deepesh | shubham | roshan\n",
      "200000% HP 🤔 Health Hacker? In Free Fire #Shorts #Short\n",
      "Sister Love 🥺❤️ | Deepesh zo | gogo2728 | Mr roshan | deepesh | shubham | roshan\n",
      "जितिया व्रत गीत | ये जितिया माई देई दिहतू गोदी में ललनवा |Susmita Paswan Paramparik Jitiya Vrat Geet\n",
      "Param Sundari | Short Dance Video | Kriti Sanon | Sommya Jain\n",
      "Kundali Bhagya\n",
      "We Made Real Remote Controlled Car - सपना सच हो गया | Mercedes-Benz\n",
      "MOM VS DAD CHALLENGE | BABY QUEEN | Rimorav Vlogs presents RI VLOGS\n",
      "Minecraft craziest mod | Minecraft Hindi\n",
      "September 27, 2021\n",
      "Biwi Ne Kiya Pati Ka Bura Hal #shorts\n",
      "First To Rob Bank Wins $100,000\n",
      "Babita जी की Help करने पहुँचा Jethalal | Taarak Mehta Ka Ooltah Chashmah | Jetha Ke Weird Dreams\n",
      "Barsaat Ke Mausam Mein | Naajayaz | Kumar Sanu | Roop Kumar Rathod | Naseeruddin Shah\n",
      "Tittar Phangian | Official Video | Sippy Gill Ft. Labh Heera | New Punjabi Song 2021 | Laddi Gill\n",
      "Indians & Traffic Police | Funcho\n",
      "EMIWAY - HAI TU KAUN (PROD. MEME MACHINE) (OFFICIAL MUSIC VIDEO)\n",
      "BOL KAFFARA KYA HOGA LYRICAL - DJ Chetas , Neha Kakkar , Nusrat FatehAli Khan,Farhan,Lijo | Anshul G\n",
      "India end Aussies' world-record ODI streak in thriller | Third ODI | Australia v India 2021\n",
      "My Sister vs Your Sister | Sanjhalika Vlog\n",
      "Tere Ishq Mein Naachenge | Raja Hindustani | Aamir Khan | Karisma Kapoor | Kumar Sanu |Sad Love Song\n",
      "HAWAI - YATRA || Sumit Bhyan\n",
      "REET 2nd LEVEL सामाजिक अध्ययन ( Social Studies ) SOLUTION AND ANSWER KEY By Subhash Charan Sir\n",
      "Dil Galti Kar Baitha hai Song | Performance | Jubin Nautiyal | Mouni Roy | Super Dancer 4 | Latest\n",
      "🥺Last Surprise To Reet In India😭 / Mr Mrs Narula\n",
      "Goli (Official Video) Gur Sidhu | Navpreet Banga | Deepak Dhillon | New Punjabi Songs 2021 | Punjabi\n",
      "TOP 5 SUPER AMAZING TRICKS | MINECRAFT GAMEPLAY #78\n",
      "MY ROOM TOUR 😍✨ | Rishabh Chawla\n",
      "How to Make Money from YouTube Channel? | Zero to Million Subscribers | Dr Vivek Bindra\n",
      "Gaurav Budania, Rank -13, IAS - UPSC 2020 - Mock Interview I Drishti IAS\n",
      "THIS GAME IS BEST | FARLIGHT 84\n",
      "Murder by #SuspenderGangsters 😱 #shorts\n",
      "I Got Titan Scar 😱 & 5000 Diamonds Noob Id To Pro In Free Fire Max 😳 - Garena Free Fire\n",
      "Piyush And Oreo playing football 😃\n",
      "Coldplay X BTS Inside 'My Universe' Documentary - BTS (방탄소년단)\n",
      "GUESS THE YOUTUBER CHALLENGE\n",
      "100 Rupees Zomato Food Challenge | Zomato Challenge | Food Eating Competition | Viwa Food World\n",
      "AJAY HOODA : Heavy Ghaghra (Full Video) Sandeep Surila, Kanchan | New Haryanvi Songs Haryanavi 2021\n",
      "Jungle Mein Faas Gaye 😫 Popat Hi Popat\n",
      "Coldplay X BTS - My Universe (Official Lyric Video)\n",
      "21,000 Rs ka Chole Kulche Challenge #shorts\n",
      "Fake Tattoo Prank On My Sister @Mahjabeen Ali | *Mujhe ghar se nikal diya* | SAMREEN ALI VLOGS\n",
      "₹10,38,700 Crazy iPhone 13 Shopping For You🔥🔥🔥\n",
      "Visiting Burj Khalifa And Desert Safari |Day1InDubai With @Round2hell\n",
      "Glimpses of Valimai | Ajith Kumar | Yuvan Shankar Raja | Vinoth | Boney Kapoor | Zee Studios #4KUHD\n",
      "Real story ( pizza delivery boy )😭💔 #shorts\n",
      "DOCTOR - Official Trailer | Sivakarthikeyan | Nelson Dilipkumar | Anirudh | Vinay | Yogi Babu\n",
      "Ek dusre say revenge lene k chakkar mai nuksan hogaya 😔 #gauravaroravlogs #shorts #youtubeshorts\n",
      "टोनी कक्कर का शानदार जवाब 😱🔥| A2 Motivation |#shorts #backtobasics by #a2_sir @Tony Kakkar\n",
      "Upar wala har kisi ke sath hai har tarike se#shorts #payalmalik #armaanmalik #familyfitness\n",
      "Awesome Truck Challenge 😍👆 | coolzone fact | short | tik tok | challenge #shorts Awesome\n",
      "heart touching video❤️ #shorts\n",
      "American 🇺🇸 vs Indians 🇮🇳 ~ Prank got failed ~ Expectation vs Reality ~ Dushyant Kukreja #shorts\n",
      "KAKA : MERE WARGA (Official Video) Sukh-E | New Punjabi Songs 2021 | Latest Punjabi Songs 2021\n",
      "Tusker Trying To Get Out Of Mundali Barrage In Cuttack\n",
      "Dayalu ladka / comedy / shorts #comedy #shorts #funny #mrsam #chotu\n",
      "aaradi evn🙄\n",
      "Mehendi - Song| Dhvani Bhanushali | Gurfateh| Vishal Dadlani| Vinod B| Lijo-Chetas| Priya S| Vibhu P\n",
      "Adipaavi🙄 Wait for the end🤣🤣 #imsubu #shorts\n",
      "DATE PRANK IDEA 💡😎 ft. @Nagma Mirajkar 😜 #Nawez #shorts #DatePrank\n",
      "Niraimaatha Nilavae Episode 11 | Tube Light Attagasangal | Pregnancy Sothanaigal | Caring Husband\n",
      "Voice lock phone iphone 13 / comedy / funny #comedy #shorts #funny #mrsam #iphone13\n",
      "Namma Kaasa kari aakiduva 😬🔥 | Mabu Crush | Comedy\n",
      "ऐसी मैजिक ट्रिक आपने कभी देखि नहीं होगी 😂⚡ #TrakinShorts #Shorts\n",
      "Instagram 'Influencers' Roasted Me !!\n",
      "#BheemlaNayak - Blitz of Daniel Shekar | Pawan Kalyan, Rana Daggubati | Trivikram | Saagar K Chandra\n",
      "Maha Samudram Trailer | 4K | Sharwanand,Siddharth, Aditi Rao Hydari | Ajay Bhupathi | Anil Sunkara\n",
      "Dil Laga Liya Maine - Lyrical | Dil Hai Tumhaara | Preity & Arjun Rampal | Alka Yagnik, Udit Narayan\n",
      "என்னோட இந்த பிரச்சனைனால தான் Pandian Stores விட்டு விலகிட்டேன் - VJ Deepika Opens Up | #Shorts\n",
      "बालों ki आफत | Sukki Dc | We Are One\n",
      "This Song Got Us Like 😍😍 | #shorts\n",
      "ADVENTURES OF SRIMANNARAYANA (2021) New Released Hindi Dubbed Movie | Rakshit Shetty | South Movie\n",
      "Sunday Paavangal | Parithabangal\n",
      "HAMARI PEHLI GAADI || MIDDLE CLASS FAMILY || THE SHIVAM\n",
      "My Story of meeting NILA 😍 | GP | Pearle Maaney | Srinish Aravind\n",
      "Malupu female Version 4k | Deepthi Sunaina | Shanmukh Jaswanth | Vinay shanmukh | Infinitum\n",
      "Republic | Trailer | Sai Tej | Aishwarya Rajesh | Jagapathibabu | Ramya | Deva Katta | Oct 1st\n",
      "Singer Mangli Saranga Dariya Live Singing | Aamir Khan | Sai Pallavi | Love Story Pre Release Event\n",
      "Nila's First Flight | Pearle Maaney | Srinish Aravind\n"
     ]
    }
   ],
   "source": [
    "for title in a:\n",
    "    print(title.text)"
   ]
  },
  {
   "cell_type": "code",
   "execution_count": 7,
   "id": "7bdd62cd",
   "metadata": {},
   "outputs": [
    {
     "data": {
      "text/plain": [
       "[<selenium.webdriver.remote.webelement.WebElement (session=\"85aa2595dfab38eba5e1a740b67934e8\", element=\"af94ca40-5912-49d9-8c9c-136bf5fffa6a\")>,\n",
       " <selenium.webdriver.remote.webelement.WebElement (session=\"85aa2595dfab38eba5e1a740b67934e8\", element=\"40635b00-1c72-43a9-9ea2-01a07f16b51e\")>,\n",
       " <selenium.webdriver.remote.webelement.WebElement (session=\"85aa2595dfab38eba5e1a740b67934e8\", element=\"e0c96f78-53e9-400e-985c-da2596ee71e6\")>,\n",
       " <selenium.webdriver.remote.webelement.WebElement (session=\"85aa2595dfab38eba5e1a740b67934e8\", element=\"78dd9924-4852-4a80-b3f6-74b2e2573c02\")>,\n",
       " <selenium.webdriver.remote.webelement.WebElement (session=\"85aa2595dfab38eba5e1a740b67934e8\", element=\"b53ac269-44f1-41db-8592-9958677caf2e\")>,\n",
       " <selenium.webdriver.remote.webelement.WebElement (session=\"85aa2595dfab38eba5e1a740b67934e8\", element=\"7494273d-4cab-41f8-bc49-b087f6fffaae\")>,\n",
       " <selenium.webdriver.remote.webelement.WebElement (session=\"85aa2595dfab38eba5e1a740b67934e8\", element=\"1bc12aee-65d4-4854-9ff1-728b495dfda4\")>,\n",
       " <selenium.webdriver.remote.webelement.WebElement (session=\"85aa2595dfab38eba5e1a740b67934e8\", element=\"1ccfdc6e-0cbc-46bf-9c57-3043ddc59dac\")>,\n",
       " <selenium.webdriver.remote.webelement.WebElement (session=\"85aa2595dfab38eba5e1a740b67934e8\", element=\"5f168e2e-5744-4b55-a47b-19cd7e1f1096\")>,\n",
       " <selenium.webdriver.remote.webelement.WebElement (session=\"85aa2595dfab38eba5e1a740b67934e8\", element=\"60c7b3dd-c438-48aa-8971-eff14126348c\")>,\n",
       " <selenium.webdriver.remote.webelement.WebElement (session=\"85aa2595dfab38eba5e1a740b67934e8\", element=\"d4b55055-3357-4f82-9b68-9fc6c853d328\")>,\n",
       " <selenium.webdriver.remote.webelement.WebElement (session=\"85aa2595dfab38eba5e1a740b67934e8\", element=\"2356b07e-0611-42d7-b5bb-fab51bbd98bd\")>,\n",
       " <selenium.webdriver.remote.webelement.WebElement (session=\"85aa2595dfab38eba5e1a740b67934e8\", element=\"0de424cc-08a1-4eef-b650-a96e11e77e7e\")>,\n",
       " <selenium.webdriver.remote.webelement.WebElement (session=\"85aa2595dfab38eba5e1a740b67934e8\", element=\"1f2c2f9f-f713-4825-b6a4-d9c24b22df89\")>,\n",
       " <selenium.webdriver.remote.webelement.WebElement (session=\"85aa2595dfab38eba5e1a740b67934e8\", element=\"6ff40680-0c28-4a22-98d3-49c6453eaea8\")>,\n",
       " <selenium.webdriver.remote.webelement.WebElement (session=\"85aa2595dfab38eba5e1a740b67934e8\", element=\"2d76943a-c529-496d-9a75-87df55b24767\")>,\n",
       " <selenium.webdriver.remote.webelement.WebElement (session=\"85aa2595dfab38eba5e1a740b67934e8\", element=\"1cce7632-8875-4a3e-8a58-1ad80398b3ec\")>,\n",
       " <selenium.webdriver.remote.webelement.WebElement (session=\"85aa2595dfab38eba5e1a740b67934e8\", element=\"9eb1a3ff-17e3-4db9-9346-da4cc037ab28\")>,\n",
       " <selenium.webdriver.remote.webelement.WebElement (session=\"85aa2595dfab38eba5e1a740b67934e8\", element=\"50c9f89c-ebc0-4226-9b96-84a7fa406f48\")>,\n",
       " <selenium.webdriver.remote.webelement.WebElement (session=\"85aa2595dfab38eba5e1a740b67934e8\", element=\"5704965b-4975-4ef2-a5a7-6be7124880e2\")>,\n",
       " <selenium.webdriver.remote.webelement.WebElement (session=\"85aa2595dfab38eba5e1a740b67934e8\", element=\"b539bc5c-2a29-4d31-a45b-3f44755105e2\")>,\n",
       " <selenium.webdriver.remote.webelement.WebElement (session=\"85aa2595dfab38eba5e1a740b67934e8\", element=\"d5b0ef09-6f0a-497c-a30d-10b778e473fa\")>,\n",
       " <selenium.webdriver.remote.webelement.WebElement (session=\"85aa2595dfab38eba5e1a740b67934e8\", element=\"ab75176f-fd6a-4950-9564-d8de7b4f694d\")>,\n",
       " <selenium.webdriver.remote.webelement.WebElement (session=\"85aa2595dfab38eba5e1a740b67934e8\", element=\"55a6311e-03b2-4abb-a1e7-357a16912578\")>,\n",
       " <selenium.webdriver.remote.webelement.WebElement (session=\"85aa2595dfab38eba5e1a740b67934e8\", element=\"bbdecaf7-1b93-4c4a-9ed4-ba9a9d50bc98\")>,\n",
       " <selenium.webdriver.remote.webelement.WebElement (session=\"85aa2595dfab38eba5e1a740b67934e8\", element=\"219f1440-774b-413c-894c-d9027fbf2ad7\")>,\n",
       " <selenium.webdriver.remote.webelement.WebElement (session=\"85aa2595dfab38eba5e1a740b67934e8\", element=\"8bb40c77-7920-4ae6-9f36-0fadefb34de9\")>,\n",
       " <selenium.webdriver.remote.webelement.WebElement (session=\"85aa2595dfab38eba5e1a740b67934e8\", element=\"f49ec891-7cf9-45cd-920d-561eecdef80a\")>,\n",
       " <selenium.webdriver.remote.webelement.WebElement (session=\"85aa2595dfab38eba5e1a740b67934e8\", element=\"13ccb618-a6ce-4bf8-a1c1-222fd32b9b1a\")>,\n",
       " <selenium.webdriver.remote.webelement.WebElement (session=\"85aa2595dfab38eba5e1a740b67934e8\", element=\"d8cbcd0c-13db-4071-b5bf-7d27b27c5ca3\")>,\n",
       " <selenium.webdriver.remote.webelement.WebElement (session=\"85aa2595dfab38eba5e1a740b67934e8\", element=\"701a2733-c3dc-4366-897f-7632bbb1b641\")>,\n",
       " <selenium.webdriver.remote.webelement.WebElement (session=\"85aa2595dfab38eba5e1a740b67934e8\", element=\"e0c0f159-ef02-4601-9f9c-a9ffa4bf11ae\")>,\n",
       " <selenium.webdriver.remote.webelement.WebElement (session=\"85aa2595dfab38eba5e1a740b67934e8\", element=\"0a8613e1-adaa-44d3-8154-14c04cce81af\")>,\n",
       " <selenium.webdriver.remote.webelement.WebElement (session=\"85aa2595dfab38eba5e1a740b67934e8\", element=\"74b49d5d-bf91-41b5-bd7b-992e10616985\")>,\n",
       " <selenium.webdriver.remote.webelement.WebElement (session=\"85aa2595dfab38eba5e1a740b67934e8\", element=\"ff58a406-c7fb-44df-8670-ed05cf0e8943\")>,\n",
       " <selenium.webdriver.remote.webelement.WebElement (session=\"85aa2595dfab38eba5e1a740b67934e8\", element=\"7199353d-aafb-47a0-894d-e61424f5358f\")>,\n",
       " <selenium.webdriver.remote.webelement.WebElement (session=\"85aa2595dfab38eba5e1a740b67934e8\", element=\"d64c6300-811d-4d75-bad0-c3a994ea9135\")>,\n",
       " <selenium.webdriver.remote.webelement.WebElement (session=\"85aa2595dfab38eba5e1a740b67934e8\", element=\"fe7d2db5-ed9a-434e-9a21-73cdcd88a7f2\")>,\n",
       " <selenium.webdriver.remote.webelement.WebElement (session=\"85aa2595dfab38eba5e1a740b67934e8\", element=\"b5197ef9-01af-453c-85f2-fa0ffc8dd535\")>,\n",
       " <selenium.webdriver.remote.webelement.WebElement (session=\"85aa2595dfab38eba5e1a740b67934e8\", element=\"65e5ab2e-98cb-499e-bd92-a242c79b5327\")>,\n",
       " <selenium.webdriver.remote.webelement.WebElement (session=\"85aa2595dfab38eba5e1a740b67934e8\", element=\"79110f91-404d-4599-846c-059b89774af6\")>,\n",
       " <selenium.webdriver.remote.webelement.WebElement (session=\"85aa2595dfab38eba5e1a740b67934e8\", element=\"44efb2a5-4549-410e-8414-0d3d43ce7659\")>,\n",
       " <selenium.webdriver.remote.webelement.WebElement (session=\"85aa2595dfab38eba5e1a740b67934e8\", element=\"0649b17b-15dc-4e8c-999f-0067987cab97\")>,\n",
       " <selenium.webdriver.remote.webelement.WebElement (session=\"85aa2595dfab38eba5e1a740b67934e8\", element=\"4b795696-01fe-4e11-b221-7139c1cf5cdc\")>,\n",
       " <selenium.webdriver.remote.webelement.WebElement (session=\"85aa2595dfab38eba5e1a740b67934e8\", element=\"d7c767e8-b7e8-4626-9635-458ff526c87e\")>,\n",
       " <selenium.webdriver.remote.webelement.WebElement (session=\"85aa2595dfab38eba5e1a740b67934e8\", element=\"ae2754cb-6a68-4977-afe8-8054bf457867\")>,\n",
       " <selenium.webdriver.remote.webelement.WebElement (session=\"85aa2595dfab38eba5e1a740b67934e8\", element=\"41181003-7596-44d7-bf63-4c948abed5f3\")>,\n",
       " <selenium.webdriver.remote.webelement.WebElement (session=\"85aa2595dfab38eba5e1a740b67934e8\", element=\"519cd999-cacc-4e73-9d3c-56f76cddc918\")>,\n",
       " <selenium.webdriver.remote.webelement.WebElement (session=\"85aa2595dfab38eba5e1a740b67934e8\", element=\"e3f36675-2df0-4ed8-9724-9c96aab32728\")>,\n",
       " <selenium.webdriver.remote.webelement.WebElement (session=\"85aa2595dfab38eba5e1a740b67934e8\", element=\"389db52c-1f2c-437d-805b-f322bb46f365\")>,\n",
       " <selenium.webdriver.remote.webelement.WebElement (session=\"85aa2595dfab38eba5e1a740b67934e8\", element=\"81b6a198-80b7-4e26-9561-95877ab606b0\")>,\n",
       " <selenium.webdriver.remote.webelement.WebElement (session=\"85aa2595dfab38eba5e1a740b67934e8\", element=\"65a57057-1b03-4c83-b213-8661bb1da8c8\")>,\n",
       " <selenium.webdriver.remote.webelement.WebElement (session=\"85aa2595dfab38eba5e1a740b67934e8\", element=\"cc3f27c1-4dbb-4381-a53f-cd5a0148f054\")>,\n",
       " <selenium.webdriver.remote.webelement.WebElement (session=\"85aa2595dfab38eba5e1a740b67934e8\", element=\"84db9db9-14fc-42a6-b55d-f13de8837c73\")>,\n",
       " <selenium.webdriver.remote.webelement.WebElement (session=\"85aa2595dfab38eba5e1a740b67934e8\", element=\"63913fa1-1e93-4490-9778-4bea1b27c006\")>,\n",
       " <selenium.webdriver.remote.webelement.WebElement (session=\"85aa2595dfab38eba5e1a740b67934e8\", element=\"77551794-7e82-4062-a16c-ba6c74eb02ee\")>,\n",
       " <selenium.webdriver.remote.webelement.WebElement (session=\"85aa2595dfab38eba5e1a740b67934e8\", element=\"ff4fc5a7-670e-4324-a21a-aec01253360c\")>,\n",
       " <selenium.webdriver.remote.webelement.WebElement (session=\"85aa2595dfab38eba5e1a740b67934e8\", element=\"60bb3375-5ccc-4a1e-a35b-8ce0f0739f1e\")>,\n",
       " <selenium.webdriver.remote.webelement.WebElement (session=\"85aa2595dfab38eba5e1a740b67934e8\", element=\"fee59e8a-43f3-4fe1-a2c4-e5321884a581\")>,\n",
       " <selenium.webdriver.remote.webelement.WebElement (session=\"85aa2595dfab38eba5e1a740b67934e8\", element=\"af49f867-6e60-49bd-8653-817a4c5fbc86\")>,\n",
       " <selenium.webdriver.remote.webelement.WebElement (session=\"85aa2595dfab38eba5e1a740b67934e8\", element=\"99eb483f-fea5-41fe-8d48-01641ddb482e\")>,\n",
       " <selenium.webdriver.remote.webelement.WebElement (session=\"85aa2595dfab38eba5e1a740b67934e8\", element=\"eabaae41-67dc-4ac9-96fe-8706df8fe0db\")>,\n",
       " <selenium.webdriver.remote.webelement.WebElement (session=\"85aa2595dfab38eba5e1a740b67934e8\", element=\"7e0e1bd6-8477-479d-a5a4-2b5d2382e2a0\")>,\n",
       " <selenium.webdriver.remote.webelement.WebElement (session=\"85aa2595dfab38eba5e1a740b67934e8\", element=\"8fbb357d-9957-4491-80c0-34916eed519f\")>,\n",
       " <selenium.webdriver.remote.webelement.WebElement (session=\"85aa2595dfab38eba5e1a740b67934e8\", element=\"3e708b54-216e-4628-aeca-c796cddd89b3\")>,\n",
       " <selenium.webdriver.remote.webelement.WebElement (session=\"85aa2595dfab38eba5e1a740b67934e8\", element=\"f59aa5b0-08d9-4d2f-bd10-37e6f6c8373b\")>,\n",
       " <selenium.webdriver.remote.webelement.WebElement (session=\"85aa2595dfab38eba5e1a740b67934e8\", element=\"ad6a4422-8dc2-47c3-80a4-7ed5e07d030e\")>,\n",
       " <selenium.webdriver.remote.webelement.WebElement (session=\"85aa2595dfab38eba5e1a740b67934e8\", element=\"6b590106-0aa4-42c5-a96e-668359083d05\")>,\n",
       " <selenium.webdriver.remote.webelement.WebElement (session=\"85aa2595dfab38eba5e1a740b67934e8\", element=\"1418f733-db67-4e21-bd17-aa37076ab6b7\")>,\n",
       " <selenium.webdriver.remote.webelement.WebElement (session=\"85aa2595dfab38eba5e1a740b67934e8\", element=\"0bbdf11f-fb3a-4228-9854-809886d81ba9\")>,\n",
       " <selenium.webdriver.remote.webelement.WebElement (session=\"85aa2595dfab38eba5e1a740b67934e8\", element=\"4ce72e80-63c9-4e12-b0d0-8257136f3302\")>,\n",
       " <selenium.webdriver.remote.webelement.WebElement (session=\"85aa2595dfab38eba5e1a740b67934e8\", element=\"afd3e189-8d08-4d76-8341-9a9bc3bccd83\")>,\n",
       " <selenium.webdriver.remote.webelement.WebElement (session=\"85aa2595dfab38eba5e1a740b67934e8\", element=\"f3cec880-ed2f-41ae-adeb-661326b5621f\")>,\n",
       " <selenium.webdriver.remote.webelement.WebElement (session=\"85aa2595dfab38eba5e1a740b67934e8\", element=\"2ff6f505-9ea1-4e07-b09a-faba9766a31e\")>,\n",
       " <selenium.webdriver.remote.webelement.WebElement (session=\"85aa2595dfab38eba5e1a740b67934e8\", element=\"efc8d897-bdb6-41cd-a659-2c6f01fb6638\")>,\n",
       " <selenium.webdriver.remote.webelement.WebElement (session=\"85aa2595dfab38eba5e1a740b67934e8\", element=\"dd2707e5-8b8f-4b5a-8fa3-4d47ab1d1ecf\")>,\n",
       " <selenium.webdriver.remote.webelement.WebElement (session=\"85aa2595dfab38eba5e1a740b67934e8\", element=\"9c99b21d-5615-4e02-8ddc-c08b2c044dd1\")>,\n",
       " <selenium.webdriver.remote.webelement.WebElement (session=\"85aa2595dfab38eba5e1a740b67934e8\", element=\"ec1f4087-a7ec-4e7b-8498-6be42a6477b7\")>,\n",
       " <selenium.webdriver.remote.webelement.WebElement (session=\"85aa2595dfab38eba5e1a740b67934e8\", element=\"e61d0c4f-5a53-4cc7-8a54-9c0a169ca795\")>,\n",
       " <selenium.webdriver.remote.webelement.WebElement (session=\"85aa2595dfab38eba5e1a740b67934e8\", element=\"6a3072aa-89ec-4e70-a2e3-e9d1677df4c5\")>,\n",
       " <selenium.webdriver.remote.webelement.WebElement (session=\"85aa2595dfab38eba5e1a740b67934e8\", element=\"ac3f8cc8-6db6-4197-ab81-005aea247c7c\")>,\n",
       " <selenium.webdriver.remote.webelement.WebElement (session=\"85aa2595dfab38eba5e1a740b67934e8\", element=\"ad6f62d6-5f70-4a07-9394-c6f867315e2b\")>,\n",
       " <selenium.webdriver.remote.webelement.WebElement (session=\"85aa2595dfab38eba5e1a740b67934e8\", element=\"3a3db22d-3593-4043-88b3-8c8c5541ee78\")>,\n",
       " <selenium.webdriver.remote.webelement.WebElement (session=\"85aa2595dfab38eba5e1a740b67934e8\", element=\"f9c81857-1f6d-43f9-aed1-dbb295e08c82\")>,\n",
       " <selenium.webdriver.remote.webelement.WebElement (session=\"85aa2595dfab38eba5e1a740b67934e8\", element=\"8e816f11-3f65-4f21-aa95-7200e30904e7\")>]"
      ]
     },
     "execution_count": 7,
     "metadata": {},
     "output_type": "execute_result"
    }
   ],
   "source": [
    "a"
   ]
  },
  {
   "cell_type": "code",
   "execution_count": 14,
   "id": "013c8707",
   "metadata": {},
   "outputs": [],
   "source": [
    "b = driver.find_elements_by_xpath('/html/body/ytd-app/div/ytd-page-manager/ytd-browse/ytd-two-column-browse-results-renderer/div[1]/ytd-section-list-renderer/div[2]/ytd-item-section-renderer[3]/div[3]/ytd-shelf-renderer/div[1]/div[2]/ytd-expanded-shelf-contents-renderer/div/ytd-video-renderer/div[1]/div/div[1]/ytd-video-meta-block/div[1]/div[2]/span[1]')"
   ]
  },
  {
   "cell_type": "code",
   "execution_count": 15,
   "id": "7f5991a1",
   "metadata": {},
   "outputs": [
    {
     "data": {
      "text/plain": [
       "47"
      ]
     },
     "execution_count": 15,
     "metadata": {},
     "output_type": "execute_result"
    }
   ],
   "source": [
    "len(b)"
   ]
  },
  {
   "cell_type": "code",
   "execution_count": 16,
   "id": "62ba5bf2",
   "metadata": {},
   "outputs": [
    {
     "name": "stdout",
     "output_type": "stream",
     "text": [
      "7.2M views\n",
      "34M views\n",
      "66M views\n",
      "41M views\n",
      "1.4M views\n",
      "19M views\n",
      "782K views\n",
      "1.4M views\n",
      "1.9M views\n",
      "2.7M views\n",
      "1M views\n",
      "1.2M views\n",
      "556K views\n",
      "10M views\n",
      "14M views\n",
      "2.1M views\n",
      "750K views\n",
      "727K views\n",
      "670K views\n",
      "1.1M views\n",
      "5.1M views\n",
      "1.4M views\n",
      "1.8M views\n",
      "3M views\n",
      "3M views\n",
      "238K views\n",
      "1M views\n",
      "990K views\n",
      "7.4M views\n",
      "4.3M views\n",
      "388K views\n",
      "658K views\n",
      "1.2M views\n",
      "1.1M views\n",
      "464K views\n",
      "973K views\n",
      "3.5M views\n",
      "8.6M views\n",
      "823K views\n",
      "419K views\n",
      "3.6M views\n",
      "4.8M views\n",
      "31M views\n",
      "2.7M views\n",
      "175K views\n",
      "1M views\n",
      "3.3M views\n"
     ]
    }
   ],
   "source": [
    "for value in b:\n",
    "    print(value.text)"
   ]
  },
  {
   "cell_type": "code",
   "execution_count": null,
   "id": "34dd8887",
   "metadata": {},
   "outputs": [],
   "source": []
  }
 ],
 "metadata": {
  "kernelspec": {
   "display_name": "Python 3",
   "language": "python",
   "name": "python3"
  },
  "language_info": {
   "codemirror_mode": {
    "name": "ipython",
    "version": 3
   },
   "file_extension": ".py",
   "mimetype": "text/x-python",
   "name": "python",
   "nbconvert_exporter": "python",
   "pygments_lexer": "ipython3",
   "version": "3.8.8"
  }
 },
 "nbformat": 4,
 "nbformat_minor": 5
}
